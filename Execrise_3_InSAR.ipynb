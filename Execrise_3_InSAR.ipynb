{
 "cells": [
  {
   "cell_type": "markdown",
   "metadata": {},
   "source": [
    "# InSAR Interferometry"
   ]
  },
  {
   "cell_type": "markdown",
   "metadata": {},
   "source": [
    "Radar interferometry usually contains the following processing steps: \n",
    "* precise coregistration (with sub-pixel accuracy) of two radar images in the single-look-complex format (usually done based on the image intensity. ”Spectral diversity” is another method). \n",
    "\n",
    "* After coregistration an interferogram is formed. The phase if the interferogram contains information about surface deformation and topography (with some phase contribution from the atmosphere) and the coherence is a measure how reliable individual phase val- ues are. \n",
    "\n",
    "* Usually, one subtracts a known phase from the interferogram and analyses only the residual phase with respect to the reference. The know phase usually represents a rough estimate (as precise as possible) of the topography.\n",
    "\n",
    "In this exercise this estimate is so rough that the earth is assumed to be flat and that the radar incidence angle does not vary across the scene. For a flat earth, the remaining phase (after subtracting the flat-earth-phase) corresponds to the topography. Each phase cycle represents a certain height step. On says the height-of-ambiguity HoA = 100m when one phase cycle of 2π corresponds to a height of 100 meters.\n",
    "\n",
    "The coherence, which is basically the correlation coefficient between two SLC images, can be affected by various contributions which cause a decorrelation of the radar images. This can be a bad signal-to-noise ratio (e.g. from low backscatter on water), temporal decorrelation (when the two images where acquired at different times), baseline decorrelation because the image spectra do not completely overlap."
   ]
  },
  {
   "cell_type": "code",
   "execution_count": 2,
   "metadata": {},
   "outputs": [],
   "source": [
    "# Import necessary package here.\n",
    "import numpy as np\n",
    "import matplotlib.pyplot as plt\n",
    "from scipy.fftpack import fft, fftfreq, ifft \n",
    "from matplotlib.colors import LogNorm\n",
    "from helper import open_dat_file\n",
    "# Configure plot universal property\n",
    "plt.rcParams['figure.figsize'] = (12,10)\n",
    "plt.rcParams['font.size'] = 16\n",
    "\n",
    "%matplotlib inline\n",
    "\n",
    "data_dir = './Data/Data_ex3'\n",
    "\n",
    "# define constants\n",
    "c = 3e8      #speed of light (m/s)\n",
    "Fs = 22.5e6  #range sampling frequency (Hz)\n",
    "BW = 20e6    #range bandwidth (Hz)"
   ]
  },
  {
   "cell_type": "markdown",
   "metadata": {},
   "source": [
    "## 1.  COREG And FLAT EARTH PHASE\n",
    "\n",
    "### 1.1 Coregistration\n",
    "\n",
    "Coregistration is done here only on the pixel-level and not with sub-pixel precision.\n",
    "\n",
    "* Read-in the two .dat files.\n",
    "\n",
    "* Perform 2-D cross-correlation to find range/azimuth shifts between image 1 and image 2. Use a simple amplitude cross correlation function. \n",
    "    \n",
    "* Shift image 2 so that it aligns with image 1.\n",
    "\n",
    "Hint: The cross correlation is most efficient when performed in frequency domain: \n",
    "\n",
    "Let x(t) and y(t) be two signals. The cross-correlation function is defined as\n",
    "$$\n",
    "    R_{xy}(\\tau) = \\int x(t) \\cdot y^*(t+\\tau)dt = \\mathcal{F}^{-1}{x(\\nu)\\cdot y^*(\\nu)}\n",
    "$$"
   ]
  },
  {
   "cell_type": "code",
   "execution_count": 5,
   "metadata": {},
   "outputs": [
    {
     "name": "stdout",
     "output_type": "stream",
     "text": [
      "Opening file: ./Data/Data_ex3/i_xsar125141_bild1.dat\n",
      " - Range:   1024\n",
      " - Azimuth: 4096\n",
      "Opening file: ./Data/Data_ex3/i_xsar125141_bild2.dat\n",
      " - Range:   1024\n",
      " - Azimuth: 4096\n"
     ]
    }
   ],
   "source": [
    "slc_1 = open_dat_file(data_dir+'/i_xsar125141_bild1.dat')\n",
    "slc_2 = open_dat_file(data_dir+'/i_xsar125141_bild2.dat')\n",
    "\n",
    "N_azi, N_rg = slc_1.shape"
   ]
  },
  {
   "cell_type": "code",
   "execution_count": null,
   "metadata": {},
   "outputs": [],
   "source": []
  }
 ],
 "metadata": {
  "kernelspec": {
   "display_name": "Python 3",
   "language": "python",
   "name": "python3"
  },
  "language_info": {
   "codemirror_mode": {
    "name": "ipython",
    "version": 3
   },
   "file_extension": ".py",
   "mimetype": "text/x-python",
   "name": "python",
   "nbconvert_exporter": "python",
   "pygments_lexer": "ipython3",
   "version": "3.7.3"
  }
 },
 "nbformat": 4,
 "nbformat_minor": 2
}
