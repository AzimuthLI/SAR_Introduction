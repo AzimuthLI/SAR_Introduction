{
 "cells": [
  {
   "cell_type": "code",
   "execution_count": 9,
   "metadata": {},
   "outputs": [],
   "source": [
    "# Import necessary package here.\n",
    "import numpy as np\n",
    "import matplotlib.pyplot as plt\n",
    "from scipy.fftpack import fft, fftfreq\n",
    "\n",
    "# Configure plot universal property\n",
    "plt.rcParams['figure.figsize'] = (12,10)\n",
    "plt.rcParams['font.size'] = 16\n",
    "\n",
    "%matplotlib inline"
   ]
  },
  {
   "cell_type": "markdown",
   "metadata": {},
   "source": [
    "A radar image represents two-dimensional data. This requires not only focusing in range (see first exercise) but also focusing in azimuth (= along track, i.e. in the flight direction of the sensor). You will find the formulas required for the range and azimuth chirp rates in the tutorial on epsilon nought (http://epsilon.nought.de/)."
   ]
  },
  {
   "cell_type": "markdown",
   "metadata": {},
   "source": [
    "# 2.1 2D Chirp (point source)\n",
    "Use the information in the file [chirp 2d test constants.txt] and [chirp 2d test.dat] to focus (or compress) the 2-D radar raw data. The image represent the raw-format of radar data of a single strong scatterer. After focusing in range an azimuth, the image still consists of complex values. This data format is called single-look-complex or SLC. Most radar data is distributed in the SLC format.\n",
    "\n",
    "*Definition of the .DAT format: * \n",
    "\n",
    "two LONG values representing the number of pixels in range and azimuth direction. Then follows a sequence of complex values which represent a 2D matrix of the dimension given by range and azimuth. Write a binary-reader function to import the data. When you visualize the data, you should see several rings. (IDL functions that may help: openr, readu, close, free lun, lonarr, complexarr, shade surf)\n",
    "\n",
    "### Tasks: \n",
    "\n",
    "1. compress the 2D raw data: \n",
    "    Plot intensity and phase of the compressed image.\n",
    "2. compress the 2D raw data using an Hamming filter in azimuth: \n",
    "    Visualize the intensity and phase of the compressed image.\n",
    "3. compress the 2D raw data using two looks in the azimuth spectrum: \n",
    "    Split the azimuth-spectrum and focus both spectra independently. Then average the magnitude of both images. \n",
    "    \n",
    "**Literature: Chapter 2.2 in the ”Scientific SAR User’s Guide” by Coert Olmsted.**"
   ]
  },
  {
   "cell_type": "code",
   "execution_count": null,
   "metadata": {},
   "outputs": [],
   "source": [
    "import struct\n",
    "\n",
    "def read_complex_array(filename, M, N):\n",
    "    row_fmt = '={}h'.format(N)  # \"=\" prefix means integers in native byte-order\n",
    "    row_len = struct.calcsize(row_fmt)\n",
    "    result = []\n",
    "    with open(filename, \"rb\" ) as inp:\n",
    "        for col in xrange(M):\n",
    "            reals = struct.unpack(row_fmt, inp.read(row_len))\n",
    "            imags = struct.unpack(row_fmt, inp.read(row_len))\n",
    "            cmplx = [complex(r,i) for r,i in zip(reals, imags)]\n",
    "            result.append(cmplx)\n",
    "    return result"
   ]
  },
  {
   "cell_type": "code",
   "execution_count": 51,
   "metadata": {},
   "outputs": [],
   "source": [
    "data_dir = './Data/Data_ex2'\n",
    "with open(data_dir+'/chirp_2d_test.dat', 'rb') as f:\n",
    "    data = f.read(9)\n",
    "#     data = np.fromfile(f, dtype=np.int32)"
   ]
  },
  {
   "cell_type": "code",
   "execution_count": 47,
   "metadata": {},
   "outputs": [
    {
     "data": {
      "text/plain": [
       "'\\x00\\x00\\x02\\x00\\x00\\x00\\x049'"
      ]
     },
     "execution_count": 47,
     "metadata": {},
     "output_type": "execute_result"
    }
   ],
   "source": [
    "str(data, 'ascii')"
   ]
  },
  {
   "cell_type": "code",
   "execution_count": 52,
   "metadata": {},
   "outputs": [
    {
     "data": {
      "text/plain": [
       "[0, 0, 0, 0, 0, 2, 0, 0, 0, 0, 0, 0, 0, 4, 3, 9, 3, 11]"
      ]
     },
     "execution_count": 52,
     "metadata": {},
     "output_type": "execute_result"
    }
   ],
   "source": [
    "def bcdDigits(chars):\n",
    "    for char in chars:\n",
    "#         char = ord(char)\n",
    "        for val in (char >> 4, char & 0xF):\n",
    "            if val == 0xF:\n",
    "                return\n",
    "            yield val\n",
    "            \n",
    "list(bcdDigits(data))"
   ]
  },
  {
   "cell_type": "code",
   "execution_count": 28,
   "metadata": {},
   "outputs": [
    {
     "data": {
      "text/plain": [
       "8.4453125"
      ]
     },
     "execution_count": 28,
     "metadata": {},
     "output_type": "execute_result"
    }
   ],
   "source": [
    "1106944/131072"
   ]
  },
  {
   "cell_type": "code",
   "execution_count": null,
   "metadata": {},
   "outputs": [],
   "source": []
  }
 ],
 "metadata": {
  "kernelspec": {
   "display_name": "Python 3",
   "language": "python",
   "name": "python3"
  },
  "language_info": {
   "codemirror_mode": {
    "name": "ipython",
    "version": 3
   },
   "file_extension": ".py",
   "mimetype": "text/x-python",
   "name": "python",
   "nbconvert_exporter": "python",
   "pygments_lexer": "ipython3",
   "version": "3.7.3"
  }
 },
 "nbformat": 4,
 "nbformat_minor": 2
}
